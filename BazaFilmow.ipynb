{
  "nbformat": 4,
  "nbformat_minor": 0,
  "metadata": {
    "colab": {
      "provenance": [],
      "authorship_tag": "ABX9TyMVCXmoviyibcfF15cZ6ISJ",
      "include_colab_link": true
    },
    "kernelspec": {
      "name": "python3",
      "display_name": "Python 3"
    },
    "language_info": {
      "name": "python"
    }
  },
  "cells": [
    {
      "cell_type": "markdown",
      "metadata": {
        "id": "view-in-github",
        "colab_type": "text"
      },
      "source": [
        "<a href=\"https://colab.research.google.com/github/dudajustyna020/BazaFilmow/blob/main/BazaFilmow.ipynb\" target=\"_parent\"><img src=\"https://colab.research.google.com/assets/colab-badge.svg\" alt=\"Open In Colab\"/></a>"
      ]
    },
    {
      "cell_type": "markdown",
      "source": [
        "10 najwyżej ocenianych filmów"
      ],
      "metadata": {
        "id": "RMgKlTQpd3fV"
      }
    },
    {
      "cell_type": "code",
      "source": [
        "import pandas as pd\n",
        "import numpy as np\n",
        "\n",
        "from google.colab import files\n",
        "uploaded = files.upload()\n",
        "\n",
        "\n",
        "df = pd.read_csv('tmdb_movies (4).csv')\n",
        "\n",
        "if 'vote_count' in df.columns and 'vote_average' in df.columns:\n",
        "\n",
        "    df_cleaned = df.dropna(subset=['vote_count', 'vote_average']) #usuniecie pustych danych\n",
        "    Q3 = np.percentile(df_cleaned['vote_count'], 75) #obliczenie Q3\n",
        "    filtered_df = df_cleaned[df_cleaned['vote_count'] > Q3] #filmy z większąliczbą głosów od Q3\n",
        "    top_10_movies = filtered_df.sort_values(by='vote_average', ascending=False).head(10)\n",
        "\n",
        "print(\"10 najwyżej ocenianych filmów, których liczba głosów jest większa od 3. kwartyla:\")\n",
        "print(top_10_movies[['title', 'vote_average', 'vote_count']])\n",
        "\n",
        "\n"
      ],
      "metadata": {
        "colab": {
          "base_uri": "https://localhost:8080/",
          "height": 281
        },
        "id": "u8uWatUleB-b",
        "outputId": "858ea0e5-4d07-4332-f2e4-3c76e272e98c"
      },
      "execution_count": null,
      "outputs": [
        {
          "output_type": "display_data",
          "data": {
            "text/plain": [
              "<IPython.core.display.HTML object>"
            ],
            "text/html": [
              "\n",
              "     <input type=\"file\" id=\"files-7455c402-b199-4836-90a3-8dc5abb0993c\" name=\"files[]\" multiple disabled\n",
              "        style=\"border:none\" />\n",
              "     <output id=\"result-7455c402-b199-4836-90a3-8dc5abb0993c\">\n",
              "      Upload widget is only available when the cell has been executed in the\n",
              "      current browser session. Please rerun this cell to enable.\n",
              "      </output>\n",
              "      <script>// Copyright 2017 Google LLC\n",
              "//\n",
              "// Licensed under the Apache License, Version 2.0 (the \"License\");\n",
              "// you may not use this file except in compliance with the License.\n",
              "// You may obtain a copy of the License at\n",
              "//\n",
              "//      http://www.apache.org/licenses/LICENSE-2.0\n",
              "//\n",
              "// Unless required by applicable law or agreed to in writing, software\n",
              "// distributed under the License is distributed on an \"AS IS\" BASIS,\n",
              "// WITHOUT WARRANTIES OR CONDITIONS OF ANY KIND, either express or implied.\n",
              "// See the License for the specific language governing permissions and\n",
              "// limitations under the License.\n",
              "\n",
              "/**\n",
              " * @fileoverview Helpers for google.colab Python module.\n",
              " */\n",
              "(function(scope) {\n",
              "function span(text, styleAttributes = {}) {\n",
              "  const element = document.createElement('span');\n",
              "  element.textContent = text;\n",
              "  for (const key of Object.keys(styleAttributes)) {\n",
              "    element.style[key] = styleAttributes[key];\n",
              "  }\n",
              "  return element;\n",
              "}\n",
              "\n",
              "// Max number of bytes which will be uploaded at a time.\n",
              "const MAX_PAYLOAD_SIZE = 100 * 1024;\n",
              "\n",
              "function _uploadFiles(inputId, outputId) {\n",
              "  const steps = uploadFilesStep(inputId, outputId);\n",
              "  const outputElement = document.getElementById(outputId);\n",
              "  // Cache steps on the outputElement to make it available for the next call\n",
              "  // to uploadFilesContinue from Python.\n",
              "  outputElement.steps = steps;\n",
              "\n",
              "  return _uploadFilesContinue(outputId);\n",
              "}\n",
              "\n",
              "// This is roughly an async generator (not supported in the browser yet),\n",
              "// where there are multiple asynchronous steps and the Python side is going\n",
              "// to poll for completion of each step.\n",
              "// This uses a Promise to block the python side on completion of each step,\n",
              "// then passes the result of the previous step as the input to the next step.\n",
              "function _uploadFilesContinue(outputId) {\n",
              "  const outputElement = document.getElementById(outputId);\n",
              "  const steps = outputElement.steps;\n",
              "\n",
              "  const next = steps.next(outputElement.lastPromiseValue);\n",
              "  return Promise.resolve(next.value.promise).then((value) => {\n",
              "    // Cache the last promise value to make it available to the next\n",
              "    // step of the generator.\n",
              "    outputElement.lastPromiseValue = value;\n",
              "    return next.value.response;\n",
              "  });\n",
              "}\n",
              "\n",
              "/**\n",
              " * Generator function which is called between each async step of the upload\n",
              " * process.\n",
              " * @param {string} inputId Element ID of the input file picker element.\n",
              " * @param {string} outputId Element ID of the output display.\n",
              " * @return {!Iterable<!Object>} Iterable of next steps.\n",
              " */\n",
              "function* uploadFilesStep(inputId, outputId) {\n",
              "  const inputElement = document.getElementById(inputId);\n",
              "  inputElement.disabled = false;\n",
              "\n",
              "  const outputElement = document.getElementById(outputId);\n",
              "  outputElement.innerHTML = '';\n",
              "\n",
              "  const pickedPromise = new Promise((resolve) => {\n",
              "    inputElement.addEventListener('change', (e) => {\n",
              "      resolve(e.target.files);\n",
              "    });\n",
              "  });\n",
              "\n",
              "  const cancel = document.createElement('button');\n",
              "  inputElement.parentElement.appendChild(cancel);\n",
              "  cancel.textContent = 'Cancel upload';\n",
              "  const cancelPromise = new Promise((resolve) => {\n",
              "    cancel.onclick = () => {\n",
              "      resolve(null);\n",
              "    };\n",
              "  });\n",
              "\n",
              "  // Wait for the user to pick the files.\n",
              "  const files = yield {\n",
              "    promise: Promise.race([pickedPromise, cancelPromise]),\n",
              "    response: {\n",
              "      action: 'starting',\n",
              "    }\n",
              "  };\n",
              "\n",
              "  cancel.remove();\n",
              "\n",
              "  // Disable the input element since further picks are not allowed.\n",
              "  inputElement.disabled = true;\n",
              "\n",
              "  if (!files) {\n",
              "    return {\n",
              "      response: {\n",
              "        action: 'complete',\n",
              "      }\n",
              "    };\n",
              "  }\n",
              "\n",
              "  for (const file of files) {\n",
              "    const li = document.createElement('li');\n",
              "    li.append(span(file.name, {fontWeight: 'bold'}));\n",
              "    li.append(span(\n",
              "        `(${file.type || 'n/a'}) - ${file.size} bytes, ` +\n",
              "        `last modified: ${\n",
              "            file.lastModifiedDate ? file.lastModifiedDate.toLocaleDateString() :\n",
              "                                    'n/a'} - `));\n",
              "    const percent = span('0% done');\n",
              "    li.appendChild(percent);\n",
              "\n",
              "    outputElement.appendChild(li);\n",
              "\n",
              "    const fileDataPromise = new Promise((resolve) => {\n",
              "      const reader = new FileReader();\n",
              "      reader.onload = (e) => {\n",
              "        resolve(e.target.result);\n",
              "      };\n",
              "      reader.readAsArrayBuffer(file);\n",
              "    });\n",
              "    // Wait for the data to be ready.\n",
              "    let fileData = yield {\n",
              "      promise: fileDataPromise,\n",
              "      response: {\n",
              "        action: 'continue',\n",
              "      }\n",
              "    };\n",
              "\n",
              "    // Use a chunked sending to avoid message size limits. See b/62115660.\n",
              "    let position = 0;\n",
              "    do {\n",
              "      const length = Math.min(fileData.byteLength - position, MAX_PAYLOAD_SIZE);\n",
              "      const chunk = new Uint8Array(fileData, position, length);\n",
              "      position += length;\n",
              "\n",
              "      const base64 = btoa(String.fromCharCode.apply(null, chunk));\n",
              "      yield {\n",
              "        response: {\n",
              "          action: 'append',\n",
              "          file: file.name,\n",
              "          data: base64,\n",
              "        },\n",
              "      };\n",
              "\n",
              "      let percentDone = fileData.byteLength === 0 ?\n",
              "          100 :\n",
              "          Math.round((position / fileData.byteLength) * 100);\n",
              "      percent.textContent = `${percentDone}% done`;\n",
              "\n",
              "    } while (position < fileData.byteLength);\n",
              "  }\n",
              "\n",
              "  // All done.\n",
              "  yield {\n",
              "    response: {\n",
              "      action: 'complete',\n",
              "    }\n",
              "  };\n",
              "}\n",
              "\n",
              "scope.google = scope.google || {};\n",
              "scope.google.colab = scope.google.colab || {};\n",
              "scope.google.colab._files = {\n",
              "  _uploadFiles,\n",
              "  _uploadFilesContinue,\n",
              "};\n",
              "})(self);\n",
              "</script> "
            ]
          },
          "metadata": {}
        },
        {
          "output_type": "stream",
          "name": "stdout",
          "text": [
            "Saving tmdb_movies (4).csv to tmdb_movies (4).csv\n",
            "10 najwyżej ocenianych filmów, których liczba głosów jest większa od 3. kwartyla:\n",
            "                                title  vote_average  vote_count\n",
            "1881         The Shawshank Redemption           8.5        8205\n",
            "3337                    The Godfather           8.4        5893\n",
            "2731           The Godfather: Part II           8.3        3338\n",
            "3232                     Pulp Fiction           8.3        8428\n",
            "3865                         Whiplash           8.3        4254\n",
            "1818                 Schindler's List           8.3        4329\n",
            "662                        Fight Club           8.3        9413\n",
            "2294                    Spirited Away           8.3        3840\n",
            "2170                           Psycho           8.2        2320\n",
            "3719  One Flew Over the Cuckoo's Nest           8.2        2919\n"
          ]
        }
      ]
    },
    {
      "cell_type": "markdown",
      "source": [
        "Wykres średni przychód i budżet filmu w latach 2010-2016\n"
      ],
      "metadata": {
        "id": "5o4mi3tYmzHP"
      }
    },
    {
      "cell_type": "code",
      "source": [
        "df['release_date'] = pd.to_datetime(df['release_date'], errors='coerce')\n",
        "df_filtered = df[(df['release_date'].dt.year >= 2010) & (df['release_date'].dt.year <= 2016)]\n",
        "df_filtered = df_filtered.dropna(subset=['revenue', 'budget'])\n",
        "grouped_df = df_filtered.groupby(df_filtered['release_date'].dt.year)[['revenue', 'budget']].mean()\n",
        "print(grouped_df)"
      ],
      "metadata": {
        "colab": {
          "base_uri": "https://localhost:8080/"
        },
        "id": "dp_SBo1xnBII",
        "outputId": "c50ee7f5-b9b8-4fc9-c93f-d62464a8a139"
      },
      "execution_count": null,
      "outputs": [
        {
          "output_type": "stream",
          "name": "stdout",
          "text": [
            "                   revenue        budget\n",
            "release_date                            \n",
            "2010          9.043811e+07  3.449541e+07\n",
            "2011          9.200413e+07  3.477232e+07\n",
            "2012          1.160659e+08  3.492203e+07\n",
            "2013          1.013485e+08  3.552329e+07\n",
            "2014          1.013466e+08  3.095989e+07\n",
            "2015          1.054399e+08  3.113216e+07\n",
            "2016          1.390496e+08  4.570327e+07\n"
          ]
        }
      ]
    },
    {
      "cell_type": "code",
      "source": [
        "import matplotlib.pyplot as plt\n",
        "import numpy as np\n",
        "\n",
        "fig, ax = plt.subplots()\n",
        "ax.bar(grouped_df.index, grouped_df['revenue'], color='b', width=0.4, label='Średni przychód')\n",
        "\n",
        "\n",
        "ax.plot(grouped_df.index, grouped_df['budget'], color='r', label='Średni budżet', marker='o')\n",
        "\n",
        "ax.set_xlabel('Rok', fontsize=12)\n",
        "ax.set_ylabel('Średni przychód (w milionach)', fontsize=12)\n",
        "\n",
        "plt.title('Średni przychód i średni budżet filmów w latach 2010-2016', fontsize=14)\n",
        "fig.legend(loc='upper center', bbox_to_anchor=(0.5, -0.05), fontsize=10)\n",
        "\n",
        "plt.tight_layout()\n",
        "plt.show()\n",
        "\n",
        "\n"
      ],
      "metadata": {
        "colab": {
          "base_uri": "https://localhost:8080/",
          "height": 581
        },
        "id": "Y3AXy3hM8yUS",
        "outputId": "73cbc07f-046d-43ca-a64b-35a1714d208d"
      },
      "execution_count": null,
      "outputs": [
        {
          "output_type": "display_data",
          "data": {
            "text/plain": [
              "<Figure size 640x480 with 1 Axes>"
            ],
            "image/png": "[encoded data removed]"
          },
          "metadata": {}
        }
      ]
    },
    {
      "cell_type": "markdown",
      "source": [
        "Łączenie bazy filmów i bazy gatunków"
      ],
      "metadata": {
        "id": "4JqMPq57EgJb"
      }
    },
    {
      "cell_type": "code",
      "source": [
        "from google.colab import files\n",
        "uploaded = files.upload()\n",
        "\n",
        "\n",
        "df = pd.read_csv('tmdb_movies (4).csv')\n",
        "genres_df = pd.read_csv('tmdb_genres (1).csv', header=None)\n",
        "genres_df.columns = ['genre_id', 'genre_name']\n",
        "\n",
        "merged_df = pd.merge(df, genres_df, on='genre_id', how='left')\n",
        "print(merged_df.head())\n"
      ],
      "metadata": {
        "colab": {
          "base_uri": "https://localhost:8080/",
          "height": 941
        },
        "id": "eJkn9Vq4EsMH",
        "outputId": "2c439bb2-3ec6-4d55-ad3e-647b7765d6fc"
      },
      "execution_count": null,
      "outputs": [
        {
          "output_type": "display_data",
          "data": {
            "text/plain": [
              "<IPython.core.display.HTML object>"
            ],
            "text/html": [
              "\n",
              "     <input type=\"file\" id=\"files-0c1beea7-2987-436e-b746-1f2bb08a46b1\" name=\"files[]\" multiple disabled\n",
              "        style=\"border:none\" />\n",
              "     <output id=\"result-0c1beea7-2987-436e-b746-1f2bb08a46b1\">\n",
              "      Upload widget is only available when the cell has been executed in the\n",
              "      current browser session. Please rerun this cell to enable.\n",
              "      </output>\n",
              "      <script>// Copyright 2017 Google LLC\n",
              "//\n",
              "// Licensed under the Apache License, Version 2.0 (the \"License\");\n",
              "// you may not use this file except in compliance with the License.\n",
              "// You may obtain a copy of the License at\n",
              "//\n",
              "//      http://www.apache.org/licenses/LICENSE-2.0\n",
              "//\n",
              "// Unless required by applicable law or agreed to in writing, software\n",
              "// distributed under the License is distributed on an \"AS IS\" BASIS,\n",
              "// WITHOUT WARRANTIES OR CONDITIONS OF ANY KIND, either express or implied.\n",
              "// See the License for the specific language governing permissions and\n",
              "// limitations under the License.\n",
              "\n",
              "/**\n",
              " * @fileoverview Helpers for google.colab Python module.\n",
              " */\n",
              "(function(scope) {\n",
              "function span(text, styleAttributes = {}) {\n",
              "  const element = document.createElement('span');\n",
              "  element.textContent = text;\n",
              "  for (const key of Object.keys(styleAttributes)) {\n",
              "    element.style[key] = styleAttributes[key];\n",
              "  }\n",
              "  return element;\n",
              "}\n",
              "\n",
              "// Max number of bytes which will be uploaded at a time.\n",
              "const MAX_PAYLOAD_SIZE = 100 * 1024;\n",
              "\n",
              "function _uploadFiles(inputId, outputId) {\n",
              "  const steps = uploadFilesStep(inputId, outputId);\n",
              "  const outputElement = document.getElementById(outputId);\n",
              "  // Cache steps on the outputElement to make it available for the next call\n",
              "  // to uploadFilesContinue from Python.\n",
              "  outputElement.steps = steps;\n",
              "\n",
              "  return _uploadFilesContinue(outputId);\n",
              "}\n",
              "\n",
              "// This is roughly an async generator (not supported in the browser yet),\n",
              "// where there are multiple asynchronous steps and the Python side is going\n",
              "// to poll for completion of each step.\n",
              "// This uses a Promise to block the python side on completion of each step,\n",
              "// then passes the result of the previous step as the input to the next step.\n",
              "function _uploadFilesContinue(outputId) {\n",
              "  const outputElement = document.getElementById(outputId);\n",
              "  const steps = outputElement.steps;\n",
              "\n",
              "  const next = steps.next(outputElement.lastPromiseValue);\n",
              "  return Promise.resolve(next.value.promise).then((value) => {\n",
              "    // Cache the last promise value to make it available to the next\n",
              "    // step of the generator.\n",
              "    outputElement.lastPromiseValue = value;\n",
              "    return next.value.response;\n",
              "  });\n",
              "}\n",
              "\n",
              "/**\n",
              " * Generator function which is called between each async step of the upload\n",
              " * process.\n",
              " * @param {string} inputId Element ID of the input file picker element.\n",
              " * @param {string} outputId Element ID of the output display.\n",
              " * @return {!Iterable<!Object>} Iterable of next steps.\n",
              " */\n",
              "function* uploadFilesStep(inputId, outputId) {\n",
              "  const inputElement = document.getElementById(inputId);\n",
              "  inputElement.disabled = false;\n",
              "\n",
              "  const outputElement = document.getElementById(outputId);\n",
              "  outputElement.innerHTML = '';\n",
              "\n",
              "  const pickedPromise = new Promise((resolve) => {\n",
              "    inputElement.addEventListener('change', (e) => {\n",
              "      resolve(e.target.files);\n",
              "    });\n",
              "  });\n",
              "\n",
              "  const cancel = document.createElement('button');\n",
              "  inputElement.parentElement.appendChild(cancel);\n",
              "  cancel.textContent = 'Cancel upload';\n",
              "  const cancelPromise = new Promise((resolve) => {\n",
              "    cancel.onclick = () => {\n",
              "      resolve(null);\n",
              "    };\n",
              "  });\n",
              "\n",
              "  // Wait for the user to pick the files.\n",
              "  const files = yield {\n",
              "    promise: Promise.race([pickedPromise, cancelPromise]),\n",
              "    response: {\n",
              "      action: 'starting',\n",
              "    }\n",
              "  };\n",
              "\n",
              "  cancel.remove();\n",
              "\n",
              "  // Disable the input element since further picks are not allowed.\n",
              "  inputElement.disabled = true;\n",
              "\n",
              "  if (!files) {\n",
              "    return {\n",
              "      response: {\n",
              "        action: 'complete',\n",
              "      }\n",
              "    };\n",
              "  }\n",
              "\n",
              "  for (const file of files) {\n",
              "    const li = document.createElement('li');\n",
              "    li.append(span(file.name, {fontWeight: 'bold'}));\n",
              "    li.append(span(\n",
              "        `(${file.type || 'n/a'}) - ${file.size} bytes, ` +\n",
              "        `last modified: ${\n",
              "            file.lastModifiedDate ? file.lastModifiedDate.toLocaleDateString() :\n",
              "                                    'n/a'} - `));\n",
              "    const percent = span('0% done');\n",
              "    li.appendChild(percent);\n",
              "\n",
              "    outputElement.appendChild(li);\n",
              "\n",
              "    const fileDataPromise = new Promise((resolve) => {\n",
              "      const reader = new FileReader();\n",
              "      reader.onload = (e) => {\n",
              "        resolve(e.target.result);\n",
              "      };\n",
              "      reader.readAsArrayBuffer(file);\n",
              "    });\n",
              "    // Wait for the data to be ready.\n",
              "    let fileData = yield {\n",
              "      promise: fileDataPromise,\n",
              "      response: {\n",
              "        action: 'continue',\n",
              "      }\n",
              "    };\n",
              "\n",
              "    // Use a chunked sending to avoid message size limits. See b/62115660.\n",
              "    let position = 0;\n",
              "    do {\n",
              "      const length = Math.min(fileData.byteLength - position, MAX_PAYLOAD_SIZE);\n",
              "      const chunk = new Uint8Array(fileData, position, length);\n",
              "      position += length;\n",
              "\n",
              "      const base64 = btoa(String.fromCharCode.apply(null, chunk));\n",
              "      yield {\n",
              "        response: {\n",
              "          action: 'append',\n",
              "          file: file.name,\n",
              "          data: base64,\n",
              "        },\n",
              "      };\n",
              "\n",
              "      let percentDone = fileData.byteLength === 0 ?\n",
              "          100 :\n",
              "          Math.round((position / fileData.byteLength) * 100);\n",
              "      percent.textContent = `${percentDone}% done`;\n",
              "\n",
              "    } while (position < fileData.byteLength);\n",
              "  }\n",
              "\n",
              "  // All done.\n",
              "  yield {\n",
              "    response: {\n",
              "      action: 'complete',\n",
              "    }\n",
              "  };\n",
              "}\n",
              "\n",
              "scope.google = scope.google || {};\n",
              "scope.google.colab = scope.google.colab || {};\n",
              "scope.google.colab._files = {\n",
              "  _uploadFiles,\n",
              "  _uploadFilesContinue,\n",
              "};\n",
              "})(self);\n",
              "</script> "
            ]
          },
          "metadata": {}
        },
        {
          "output_type": "stream",
          "name": "stdout",
          "text": [
            "Saving tmdb_genres (1).csv to tmdb_genres (1) (7).csv\n",
            "Saving tmdb_movies (4).csv to tmdb_movies (4) (2).csv\n",
            "   Unnamed: 0     budget                                      homepage  \\\n",
            "0           0  237000000                   http://www.avatarmovie.com/   \n",
            "1           1  300000000  http://disney.go.com/disneypictures/pirates/   \n",
            "2           2  245000000   http://www.sonypictures.com/movies/spectre/   \n",
            "3           3  250000000            http://www.thedarkknightrises.com/   \n",
            "4           4  260000000          http://movies.disney.com/john-carter   \n",
            "\n",
            "       id original_language                            original_title  \\\n",
            "0   19995                en                                    Avatar   \n",
            "1     285                en  Pirates of the Caribbean: At World's End   \n",
            "2  206647                en                                   Spectre   \n",
            "3   49026                en                     The Dark Knight Rises   \n",
            "4   49529                en                               John Carter   \n",
            "\n",
            "                                            overview  popularity release_date  \\\n",
            "0  In the 22nd century, a paraplegic Marine is di...  150.437577   2009-12-10   \n",
            "1  Captain Barbossa, long believed to be dead, ha...  139.082615   2007-05-19   \n",
            "2  A cryptic message from Bond’s past sends him o...  107.376788   2015-10-26   \n",
            "3  Following the death of District Attorney Harve...  112.312950   2012-07-16   \n",
            "4  John Carter is a war-weary, former military ca...   43.926995   2012-03-07   \n",
            "\n",
            "      revenue  runtime    status  \\\n",
            "0  2787965087    162.0  Released   \n",
            "1   961000000    169.0  Released   \n",
            "2   880674609    148.0  Released   \n",
            "3  1084939099    165.0  Released   \n",
            "4   284139100    132.0  Released   \n",
            "\n",
            "                                          tagline  \\\n",
            "0                     Enter the World of Pandora.   \n",
            "1  At the end of the world, the adventure begins.   \n",
            "2                           A Plan No One Escapes   \n",
            "3                                 The Legend Ends   \n",
            "4            Lost in our world, found in another.   \n",
            "\n",
            "                                      title  vote_average  vote_count  \\\n",
            "0                                    Avatar           7.2       11800   \n",
            "1  Pirates of the Caribbean: At World's End           6.9        4500   \n",
            "2                                   Spectre           6.3        4466   \n",
            "3                     The Dark Knight Rises           7.6        9106   \n",
            "4                               John Carter           6.1        2124   \n",
            "\n",
            "   genre_id genre_name  \n",
            "0      28.0     Action  \n",
            "1      12.0  Adventure  \n",
            "2      28.0     Action  \n",
            "3      28.0     Action  \n",
            "4      28.0     Action  \n"
          ]
        }
      ]
    },
    {
      "cell_type": "markdown",
      "source": [
        "Gatunek filmu pojawiający się najczęciej oraz ile filmów tego gatunku jest w bazie"
      ],
      "metadata": {
        "id": "PJHsK9JDNTU7"
      }
    },
    {
      "cell_type": "code",
      "source": [
        "most_common_genre = merged_df['genre_name'].value_counts().idxmax()  # gatunek pojawiający się najczęściej\n",
        "most_common_genre_count = merged_df['genre_name'].value_counts().max()  # liczba filmów tego gatunku\n",
        "\n",
        "most_common_genre, most_common_genre_count"
      ],
      "metadata": {
        "colab": {
          "base_uri": "https://localhost:8080/"
        },
        "id": "EaW2IgqLNgGn",
        "outputId": "0aa290f5-6ff1-4206-c1c7-e1b1eb849751"
      },
      "execution_count": null,
      "outputs": [
        {
          "output_type": "execute_result",
          "data": {
            "text/plain": [
              "('Drama', 1207)"
            ]
          },
          "metadata": {},
          "execution_count": 17
        }
      ]
    },
    {
      "cell_type": "markdown",
      "source": [
        "Najdłuższe filmy"
      ],
      "metadata": {
        "id": "tbUbJj2HOUCw"
      }
    },
    {
      "cell_type": "code",
      "source": [
        "average_runtime_per_genre = merged_df.groupby('genre_name')['runtime'].mean()\n",
        "most_duration_genre = average_runtime_per_genre.idxmax()\n",
        "most_duration_runtime = average_runtime_per_genre.max()\n",
        "\n",
        "most_duration_genre, most_duration_runtime"
      ],
      "metadata": {
        "colab": {
          "base_uri": "https://localhost:8080/"
        },
        "id": "TEP1VGz0OaFa",
        "outputId": "555ab178-85d0-4cfd-dfac-a65d745ea142"
      },
      "execution_count": null,
      "outputs": [
        {
          "output_type": "execute_result",
          "data": {
            "text/plain": [
              "('History', 133.96)"
            ]
          },
          "metadata": {},
          "execution_count": 18
        }
      ]
    },
    {
      "cell_type": "markdown",
      "source": [
        "Histogram"
      ],
      "metadata": {
        "id": "S1ghLv6xPfnD"
      }
    },
    {
      "cell_type": "code",
      "source": [
        "most_duration_genre_movies = merged_df[merged_df['genre_name'] == most_duration_genre]\n",
        "\n",
        "#histogram czasu trwania filmów z tego gatunku\n",
        "plt.figure(figsize=(10, 6))\n",
        "plt.hist(most_duration_genre_movies['runtime'], bins=20, color='skyblue', edgecolor='black')\n",
        "plt.title(f'Histogram czasu trwania filmów z gatunku: {most_duration_genre}', fontsize=14)\n",
        "plt.xlabel('Czas trwania (minuty)', fontsize=12)\n",
        "plt.ylabel('Liczba filmów', fontsize=12)\n",
        "plt.show()\n",
        "\n"
      ],
      "metadata": {
        "colab": {
          "base_uri": "https://localhost:8080/",
          "height": 570
        },
        "id": "GVdwdwJGPgz-",
        "outputId": "4b7d3242-671b-428d-8a33-22d1e5100419"
      },
      "execution_count": null,
      "outputs": [
        {
          "output_type": "display_data",
          "data": {
            "text/plain": [
              "<Figure size 1000x600 with 1 Axes>"
            ],
            "image/png": "[encoded data removed]"
          },
          "metadata": {}
        }
      ]
    }
  ]
}